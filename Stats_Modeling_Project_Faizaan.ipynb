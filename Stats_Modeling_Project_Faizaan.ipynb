{
 "cells": [
  {
   "cell_type": "code",
   "execution_count": 1,
   "id": "b54b93fd",
   "metadata": {},
   "outputs": [],
   "source": [
    "import numpy as np\n",
    "import matplotlib.pyplot as plt\n",
    "import pandas as pd\n",
    "import seaborn as sns\n",
    "from sklearn.preprocessing import  LabelEncoder\n",
    "from sklearn.linear_model import LogisticRegression\n",
    "from sklearn.metrics import confusion_matrix, accuracy_score , r2_score"
   ]
  },
  {
   "cell_type": "markdown",
   "id": "121b4d2c",
   "metadata": {},
   "source": [
    "# 1. Reading & Data Preprocessing\n",
    "\n",
    "\n",
    "#### a. Read the data"
   ]
  },
  {
   "cell_type": "code",
   "execution_count": 2,
   "id": "e6770895",
   "metadata": {},
   "outputs": [],
   "source": [
    "data=pd.read_csv(\"telco_data.csv\")"
   ]
  },
  {
   "cell_type": "markdown",
   "id": "63c46fef",
   "metadata": {},
   "source": [
    "#### b. Explore and understand the data"
   ]
  },
  {
   "cell_type": "code",
   "execution_count": 3,
   "id": "d2b49ea4",
   "metadata": {},
   "outputs": [
    {
     "data": {
      "text/html": [
       "<div>\n",
       "<style scoped>\n",
       "    .dataframe tbody tr th:only-of-type {\n",
       "        vertical-align: middle;\n",
       "    }\n",
       "\n",
       "    .dataframe tbody tr th {\n",
       "        vertical-align: top;\n",
       "    }\n",
       "\n",
       "    .dataframe thead th {\n",
       "        text-align: right;\n",
       "    }\n",
       "</style>\n",
       "<table border=\"1\" class=\"dataframe\">\n",
       "  <thead>\n",
       "    <tr style=\"text-align: right;\">\n",
       "      <th></th>\n",
       "      <th>International.Plan</th>\n",
       "      <th>Voice.Mail.Plan</th>\n",
       "      <th>X..Vmail.Messages</th>\n",
       "      <th>Total.Day.Minutes</th>\n",
       "      <th>Total.Day.Calls</th>\n",
       "      <th>Total.Day.Charge</th>\n",
       "      <th>Total.Eve.Minutes</th>\n",
       "      <th>Total.Eve.Calls</th>\n",
       "      <th>Total.Eve.Charge</th>\n",
       "      <th>Total.Night.Minutes</th>\n",
       "      <th>Total.Night.Calls</th>\n",
       "      <th>Total.Night.Charge</th>\n",
       "      <th>Total.Intl.Minutes</th>\n",
       "      <th>Total.Intl.Calls</th>\n",
       "      <th>Total.Intl.Charge</th>\n",
       "      <th>X..customer.Service.Calls</th>\n",
       "      <th>Churn</th>\n",
       "      <th>trainrows</th>\n",
       "    </tr>\n",
       "  </thead>\n",
       "  <tbody>\n",
       "    <tr>\n",
       "      <th>0</th>\n",
       "      <td>no</td>\n",
       "      <td>yes</td>\n",
       "      <td>25</td>\n",
       "      <td>265.1</td>\n",
       "      <td>110</td>\n",
       "      <td>45.07</td>\n",
       "      <td>197.4</td>\n",
       "      <td>99</td>\n",
       "      <td>16.78</td>\n",
       "      <td>244.7</td>\n",
       "      <td>91</td>\n",
       "      <td>11.01</td>\n",
       "      <td>10.0</td>\n",
       "      <td>3</td>\n",
       "      <td>2.70</td>\n",
       "      <td>1</td>\n",
       "      <td>False.</td>\n",
       "      <td>No</td>\n",
       "    </tr>\n",
       "    <tr>\n",
       "      <th>1</th>\n",
       "      <td>no</td>\n",
       "      <td>yes</td>\n",
       "      <td>26</td>\n",
       "      <td>161.6</td>\n",
       "      <td>123</td>\n",
       "      <td>27.47</td>\n",
       "      <td>195.5</td>\n",
       "      <td>103</td>\n",
       "      <td>16.62</td>\n",
       "      <td>254.4</td>\n",
       "      <td>103</td>\n",
       "      <td>11.45</td>\n",
       "      <td>13.7</td>\n",
       "      <td>3</td>\n",
       "      <td>3.70</td>\n",
       "      <td>1</td>\n",
       "      <td>False.</td>\n",
       "      <td>Yes</td>\n",
       "    </tr>\n",
       "    <tr>\n",
       "      <th>2</th>\n",
       "      <td>no</td>\n",
       "      <td>no</td>\n",
       "      <td>0</td>\n",
       "      <td>243.4</td>\n",
       "      <td>114</td>\n",
       "      <td>41.38</td>\n",
       "      <td>121.2</td>\n",
       "      <td>110</td>\n",
       "      <td>10.30</td>\n",
       "      <td>162.6</td>\n",
       "      <td>104</td>\n",
       "      <td>7.32</td>\n",
       "      <td>12.2</td>\n",
       "      <td>5</td>\n",
       "      <td>3.29</td>\n",
       "      <td>0</td>\n",
       "      <td>False.</td>\n",
       "      <td>Yes</td>\n",
       "    </tr>\n",
       "    <tr>\n",
       "      <th>3</th>\n",
       "      <td>yes</td>\n",
       "      <td>no</td>\n",
       "      <td>0</td>\n",
       "      <td>299.4</td>\n",
       "      <td>71</td>\n",
       "      <td>50.90</td>\n",
       "      <td>61.9</td>\n",
       "      <td>88</td>\n",
       "      <td>5.26</td>\n",
       "      <td>196.9</td>\n",
       "      <td>89</td>\n",
       "      <td>8.86</td>\n",
       "      <td>6.6</td>\n",
       "      <td>7</td>\n",
       "      <td>1.78</td>\n",
       "      <td>2</td>\n",
       "      <td>False.</td>\n",
       "      <td>Yes</td>\n",
       "    </tr>\n",
       "    <tr>\n",
       "      <th>4</th>\n",
       "      <td>yes</td>\n",
       "      <td>no</td>\n",
       "      <td>0</td>\n",
       "      <td>166.7</td>\n",
       "      <td>113</td>\n",
       "      <td>28.34</td>\n",
       "      <td>148.3</td>\n",
       "      <td>122</td>\n",
       "      <td>12.61</td>\n",
       "      <td>186.9</td>\n",
       "      <td>121</td>\n",
       "      <td>8.41</td>\n",
       "      <td>10.1</td>\n",
       "      <td>3</td>\n",
       "      <td>2.73</td>\n",
       "      <td>3</td>\n",
       "      <td>False.</td>\n",
       "      <td>Yes</td>\n",
       "    </tr>\n",
       "  </tbody>\n",
       "</table>\n",
       "</div>"
      ],
      "text/plain": [
       "  International.Plan Voice.Mail.Plan  X..Vmail.Messages  Total.Day.Minutes  \\\n",
       "0                 no             yes                 25              265.1   \n",
       "1                 no             yes                 26              161.6   \n",
       "2                 no              no                  0              243.4   \n",
       "3                yes              no                  0              299.4   \n",
       "4                yes              no                  0              166.7   \n",
       "\n",
       "   Total.Day.Calls  Total.Day.Charge  Total.Eve.Minutes  Total.Eve.Calls  \\\n",
       "0              110             45.07              197.4               99   \n",
       "1              123             27.47              195.5              103   \n",
       "2              114             41.38              121.2              110   \n",
       "3               71             50.90               61.9               88   \n",
       "4              113             28.34              148.3              122   \n",
       "\n",
       "   Total.Eve.Charge  Total.Night.Minutes  Total.Night.Calls  \\\n",
       "0             16.78                244.7                 91   \n",
       "1             16.62                254.4                103   \n",
       "2             10.30                162.6                104   \n",
       "3              5.26                196.9                 89   \n",
       "4             12.61                186.9                121   \n",
       "\n",
       "   Total.Night.Charge  Total.Intl.Minutes  Total.Intl.Calls  \\\n",
       "0               11.01                10.0                 3   \n",
       "1               11.45                13.7                 3   \n",
       "2                7.32                12.2                 5   \n",
       "3                8.86                 6.6                 7   \n",
       "4                8.41                10.1                 3   \n",
       "\n",
       "   Total.Intl.Charge  X..customer.Service.Calls   Churn trainrows  \n",
       "0               2.70                          1  False.        No  \n",
       "1               3.70                          1  False.       Yes  \n",
       "2               3.29                          0  False.       Yes  \n",
       "3               1.78                          2  False.       Yes  \n",
       "4               2.73                          3  False.       Yes  "
      ]
     },
     "execution_count": 3,
     "metadata": {},
     "output_type": "execute_result"
    }
   ],
   "source": [
    "data.head()"
   ]
  },
  {
   "cell_type": "code",
   "execution_count": 4,
   "id": "b2f16b96",
   "metadata": {},
   "outputs": [
    {
     "name": "stdout",
     "output_type": "stream",
     "text": [
      "<class 'pandas.core.frame.DataFrame'>\n",
      "RangeIndex: 5000 entries, 0 to 4999\n",
      "Data columns (total 18 columns):\n",
      " #   Column                     Non-Null Count  Dtype  \n",
      "---  ------                     --------------  -----  \n",
      " 0   International.Plan         5000 non-null   object \n",
      " 1   Voice.Mail.Plan            5000 non-null   object \n",
      " 2   X..Vmail.Messages          5000 non-null   int64  \n",
      " 3   Total.Day.Minutes          5000 non-null   float64\n",
      " 4   Total.Day.Calls            5000 non-null   int64  \n",
      " 5   Total.Day.Charge           5000 non-null   float64\n",
      " 6   Total.Eve.Minutes          5000 non-null   float64\n",
      " 7   Total.Eve.Calls            5000 non-null   int64  \n",
      " 8   Total.Eve.Charge           5000 non-null   float64\n",
      " 9   Total.Night.Minutes        5000 non-null   float64\n",
      " 10  Total.Night.Calls          5000 non-null   int64  \n",
      " 11  Total.Night.Charge         5000 non-null   float64\n",
      " 12  Total.Intl.Minutes         5000 non-null   float64\n",
      " 13  Total.Intl.Calls           5000 non-null   int64  \n",
      " 14  Total.Intl.Charge          5000 non-null   float64\n",
      " 15  X..customer.Service.Calls  5000 non-null   int64  \n",
      " 16  Churn                      5000 non-null   object \n",
      " 17  trainrows                  5000 non-null   object \n",
      "dtypes: float64(8), int64(6), object(4)\n",
      "memory usage: 703.2+ KB\n"
     ]
    }
   ],
   "source": [
    "data.info()"
   ]
  },
  {
   "cell_type": "code",
   "execution_count": 5,
   "id": "42392510",
   "metadata": {},
   "outputs": [
    {
     "data": {
      "text/plain": [
       "(5000, 18)"
      ]
     },
     "execution_count": 5,
     "metadata": {},
     "output_type": "execute_result"
    }
   ],
   "source": [
    "data.shape"
   ]
  },
  {
   "cell_type": "code",
   "execution_count": 6,
   "id": "82508038",
   "metadata": {},
   "outputs": [
    {
     "data": {
      "text/html": [
       "<div>\n",
       "<style scoped>\n",
       "    .dataframe tbody tr th:only-of-type {\n",
       "        vertical-align: middle;\n",
       "    }\n",
       "\n",
       "    .dataframe tbody tr th {\n",
       "        vertical-align: top;\n",
       "    }\n",
       "\n",
       "    .dataframe thead th {\n",
       "        text-align: right;\n",
       "    }\n",
       "</style>\n",
       "<table border=\"1\" class=\"dataframe\">\n",
       "  <thead>\n",
       "    <tr style=\"text-align: right;\">\n",
       "      <th></th>\n",
       "      <th>count</th>\n",
       "      <th>mean</th>\n",
       "      <th>std</th>\n",
       "      <th>min</th>\n",
       "      <th>25%</th>\n",
       "      <th>50%</th>\n",
       "      <th>75%</th>\n",
       "      <th>max</th>\n",
       "    </tr>\n",
       "  </thead>\n",
       "  <tbody>\n",
       "    <tr>\n",
       "      <th>X..Vmail.Messages</th>\n",
       "      <td>5000.0</td>\n",
       "      <td>7.755200</td>\n",
       "      <td>13.546393</td>\n",
       "      <td>0.0</td>\n",
       "      <td>0.000</td>\n",
       "      <td>0.00</td>\n",
       "      <td>17.00</td>\n",
       "      <td>52.00</td>\n",
       "    </tr>\n",
       "    <tr>\n",
       "      <th>Total.Day.Minutes</th>\n",
       "      <td>5000.0</td>\n",
       "      <td>180.288900</td>\n",
       "      <td>53.894699</td>\n",
       "      <td>0.0</td>\n",
       "      <td>143.700</td>\n",
       "      <td>180.10</td>\n",
       "      <td>216.20</td>\n",
       "      <td>351.50</td>\n",
       "    </tr>\n",
       "    <tr>\n",
       "      <th>Total.Day.Calls</th>\n",
       "      <td>5000.0</td>\n",
       "      <td>100.029400</td>\n",
       "      <td>19.831197</td>\n",
       "      <td>0.0</td>\n",
       "      <td>87.000</td>\n",
       "      <td>100.00</td>\n",
       "      <td>113.00</td>\n",
       "      <td>165.00</td>\n",
       "    </tr>\n",
       "    <tr>\n",
       "      <th>Total.Day.Charge</th>\n",
       "      <td>5000.0</td>\n",
       "      <td>30.649668</td>\n",
       "      <td>9.162069</td>\n",
       "      <td>0.0</td>\n",
       "      <td>24.430</td>\n",
       "      <td>30.62</td>\n",
       "      <td>36.75</td>\n",
       "      <td>59.76</td>\n",
       "    </tr>\n",
       "    <tr>\n",
       "      <th>Total.Eve.Minutes</th>\n",
       "      <td>5000.0</td>\n",
       "      <td>200.636560</td>\n",
       "      <td>50.551309</td>\n",
       "      <td>0.0</td>\n",
       "      <td>166.375</td>\n",
       "      <td>201.00</td>\n",
       "      <td>234.10</td>\n",
       "      <td>363.70</td>\n",
       "    </tr>\n",
       "    <tr>\n",
       "      <th>Total.Eve.Calls</th>\n",
       "      <td>5000.0</td>\n",
       "      <td>100.191000</td>\n",
       "      <td>19.826496</td>\n",
       "      <td>0.0</td>\n",
       "      <td>87.000</td>\n",
       "      <td>100.00</td>\n",
       "      <td>114.00</td>\n",
       "      <td>170.00</td>\n",
       "    </tr>\n",
       "    <tr>\n",
       "      <th>Total.Eve.Charge</th>\n",
       "      <td>5000.0</td>\n",
       "      <td>17.054322</td>\n",
       "      <td>4.296843</td>\n",
       "      <td>0.0</td>\n",
       "      <td>14.140</td>\n",
       "      <td>17.09</td>\n",
       "      <td>19.90</td>\n",
       "      <td>30.91</td>\n",
       "    </tr>\n",
       "    <tr>\n",
       "      <th>Total.Night.Minutes</th>\n",
       "      <td>5000.0</td>\n",
       "      <td>200.391620</td>\n",
       "      <td>50.527789</td>\n",
       "      <td>0.0</td>\n",
       "      <td>166.900</td>\n",
       "      <td>200.40</td>\n",
       "      <td>234.70</td>\n",
       "      <td>395.00</td>\n",
       "    </tr>\n",
       "    <tr>\n",
       "      <th>Total.Night.Calls</th>\n",
       "      <td>5000.0</td>\n",
       "      <td>99.919200</td>\n",
       "      <td>19.958686</td>\n",
       "      <td>0.0</td>\n",
       "      <td>87.000</td>\n",
       "      <td>100.00</td>\n",
       "      <td>113.00</td>\n",
       "      <td>175.00</td>\n",
       "    </tr>\n",
       "    <tr>\n",
       "      <th>Total.Night.Charge</th>\n",
       "      <td>5000.0</td>\n",
       "      <td>9.017732</td>\n",
       "      <td>2.273763</td>\n",
       "      <td>0.0</td>\n",
       "      <td>7.510</td>\n",
       "      <td>9.02</td>\n",
       "      <td>10.56</td>\n",
       "      <td>17.77</td>\n",
       "    </tr>\n",
       "    <tr>\n",
       "      <th>Total.Intl.Minutes</th>\n",
       "      <td>5000.0</td>\n",
       "      <td>10.261780</td>\n",
       "      <td>2.761396</td>\n",
       "      <td>0.0</td>\n",
       "      <td>8.500</td>\n",
       "      <td>10.30</td>\n",
       "      <td>12.00</td>\n",
       "      <td>20.00</td>\n",
       "    </tr>\n",
       "    <tr>\n",
       "      <th>Total.Intl.Calls</th>\n",
       "      <td>5000.0</td>\n",
       "      <td>4.435200</td>\n",
       "      <td>2.456788</td>\n",
       "      <td>0.0</td>\n",
       "      <td>3.000</td>\n",
       "      <td>4.00</td>\n",
       "      <td>6.00</td>\n",
       "      <td>20.00</td>\n",
       "    </tr>\n",
       "    <tr>\n",
       "      <th>Total.Intl.Charge</th>\n",
       "      <td>5000.0</td>\n",
       "      <td>2.771196</td>\n",
       "      <td>0.745514</td>\n",
       "      <td>0.0</td>\n",
       "      <td>2.300</td>\n",
       "      <td>2.78</td>\n",
       "      <td>3.24</td>\n",
       "      <td>5.40</td>\n",
       "    </tr>\n",
       "    <tr>\n",
       "      <th>X..customer.Service.Calls</th>\n",
       "      <td>5000.0</td>\n",
       "      <td>1.570400</td>\n",
       "      <td>1.306363</td>\n",
       "      <td>0.0</td>\n",
       "      <td>1.000</td>\n",
       "      <td>1.00</td>\n",
       "      <td>2.00</td>\n",
       "      <td>9.00</td>\n",
       "    </tr>\n",
       "  </tbody>\n",
       "</table>\n",
       "</div>"
      ],
      "text/plain": [
       "                            count        mean        std  min      25%  \\\n",
       "X..Vmail.Messages          5000.0    7.755200  13.546393  0.0    0.000   \n",
       "Total.Day.Minutes          5000.0  180.288900  53.894699  0.0  143.700   \n",
       "Total.Day.Calls            5000.0  100.029400  19.831197  0.0   87.000   \n",
       "Total.Day.Charge           5000.0   30.649668   9.162069  0.0   24.430   \n",
       "Total.Eve.Minutes          5000.0  200.636560  50.551309  0.0  166.375   \n",
       "Total.Eve.Calls            5000.0  100.191000  19.826496  0.0   87.000   \n",
       "Total.Eve.Charge           5000.0   17.054322   4.296843  0.0   14.140   \n",
       "Total.Night.Minutes        5000.0  200.391620  50.527789  0.0  166.900   \n",
       "Total.Night.Calls          5000.0   99.919200  19.958686  0.0   87.000   \n",
       "Total.Night.Charge         5000.0    9.017732   2.273763  0.0    7.510   \n",
       "Total.Intl.Minutes         5000.0   10.261780   2.761396  0.0    8.500   \n",
       "Total.Intl.Calls           5000.0    4.435200   2.456788  0.0    3.000   \n",
       "Total.Intl.Charge          5000.0    2.771196   0.745514  0.0    2.300   \n",
       "X..customer.Service.Calls  5000.0    1.570400   1.306363  0.0    1.000   \n",
       "\n",
       "                              50%     75%     max  \n",
       "X..Vmail.Messages            0.00   17.00   52.00  \n",
       "Total.Day.Minutes          180.10  216.20  351.50  \n",
       "Total.Day.Calls            100.00  113.00  165.00  \n",
       "Total.Day.Charge            30.62   36.75   59.76  \n",
       "Total.Eve.Minutes          201.00  234.10  363.70  \n",
       "Total.Eve.Calls            100.00  114.00  170.00  \n",
       "Total.Eve.Charge            17.09   19.90   30.91  \n",
       "Total.Night.Minutes        200.40  234.70  395.00  \n",
       "Total.Night.Calls          100.00  113.00  175.00  \n",
       "Total.Night.Charge           9.02   10.56   17.77  \n",
       "Total.Intl.Minutes          10.30   12.00   20.00  \n",
       "Total.Intl.Calls             4.00    6.00   20.00  \n",
       "Total.Intl.Charge            2.78    3.24    5.40  \n",
       "X..customer.Service.Calls    1.00    2.00    9.00  "
      ]
     },
     "execution_count": 6,
     "metadata": {},
     "output_type": "execute_result"
    }
   ],
   "source": [
    "data.describe().T"
   ]
  },
  {
   "cell_type": "code",
   "execution_count": 7,
   "id": "c620f2e9",
   "metadata": {},
   "outputs": [
    {
     "data": {
      "text/plain": [
       "Index(['International.Plan', 'Voice.Mail.Plan', 'X..Vmail.Messages',\n",
       "       'Total.Day.Minutes', 'Total.Day.Calls', 'Total.Day.Charge',\n",
       "       'Total.Eve.Minutes', 'Total.Eve.Calls', 'Total.Eve.Charge',\n",
       "       'Total.Night.Minutes', 'Total.Night.Calls', 'Total.Night.Charge',\n",
       "       'Total.Intl.Minutes', 'Total.Intl.Calls', 'Total.Intl.Charge',\n",
       "       'X..customer.Service.Calls', 'Churn', 'trainrows'],\n",
       "      dtype='object')"
      ]
     },
     "execution_count": 7,
     "metadata": {},
     "output_type": "execute_result"
    }
   ],
   "source": [
    "data.columns"
   ]
  },
  {
   "cell_type": "code",
   "execution_count": 8,
   "id": "9b2ba33c",
   "metadata": {},
   "outputs": [],
   "source": [
    "Numerical_Attributes=['X..Vmail.Messages','Total.Day.Minutes', 'Total.Day.Calls', 'Total.Day.Charge','Total.Eve.Minutes', 'Total.Eve.Calls', 'Total.Eve.Charge','Total.Night.Minutes', 'Total.Night.Calls', 'Total.Night.Charge','Total.Intl.Minutes', 'Total.Intl.Calls', 'Total.Intl.Charge','X..customer.Service.Calls']\n",
    "Categorical_Attributes=['International.Plan', 'Voice.Mail.Plan', 'Churn', 'trainrows']"
   ]
  },
  {
   "cell_type": "code",
   "execution_count": 9,
   "id": "621818e2",
   "metadata": {
    "scrolled": true
   },
   "outputs": [
    {
     "name": "stdout",
     "output_type": "stream",
     "text": [
      "International.Plan\n",
      "no     4527\n",
      "yes     473\n",
      "Name: International.Plan, dtype: int64 \n",
      "\n",
      "Voice.Mail.Plan\n",
      "no     3677\n",
      "yes    1323\n",
      "Name: Voice.Mail.Plan, dtype: int64 \n",
      "\n",
      "Churn\n",
      "False.    4293\n",
      "True.      707\n",
      "Name: Churn, dtype: int64 \n",
      "\n",
      "trainrows\n",
      "Yes    3500\n",
      "No     1500\n",
      "Name: trainrows, dtype: int64 \n",
      "\n"
     ]
    }
   ],
   "source": [
    "for attributes in Categorical_Attributes:\n",
    "    print(attributes)\n",
    "    print(data[attributes].value_counts(), '\\n')"
   ]
  },
  {
   "cell_type": "markdown",
   "id": "04bd7785",
   "metadata": {},
   "source": [
    "## c. Check and handle missing values if any\n"
   ]
  },
  {
   "cell_type": "code",
   "execution_count": 10,
   "id": "a0ddbb86",
   "metadata": {},
   "outputs": [
    {
     "data": {
      "text/plain": [
       "International.Plan           0\n",
       "Voice.Mail.Plan              0\n",
       "X..Vmail.Messages            0\n",
       "Total.Day.Minutes            0\n",
       "Total.Day.Calls              0\n",
       "Total.Day.Charge             0\n",
       "Total.Eve.Minutes            0\n",
       "Total.Eve.Calls              0\n",
       "Total.Eve.Charge             0\n",
       "Total.Night.Minutes          0\n",
       "Total.Night.Calls            0\n",
       "Total.Night.Charge           0\n",
       "Total.Intl.Minutes           0\n",
       "Total.Intl.Calls             0\n",
       "Total.Intl.Charge            0\n",
       "X..customer.Service.Calls    0\n",
       "Churn                        0\n",
       "trainrows                    0\n",
       "dtype: int64"
      ]
     },
     "execution_count": 10,
     "metadata": {},
     "output_type": "execute_result"
    }
   ],
   "source": [
    "data.isnull().sum()"
   ]
  },
  {
   "cell_type": "markdown",
   "id": "611a3ed8",
   "metadata": {},
   "source": [
    "## d. Perform type-conversion for required columns\n"
   ]
  },
  {
   "cell_type": "code",
   "execution_count": 11,
   "id": "0570eb94",
   "metadata": {},
   "outputs": [
    {
     "data": {
      "text/plain": [
       "International.Plan            object\n",
       "Voice.Mail.Plan               object\n",
       "X..Vmail.Messages              int64\n",
       "Total.Day.Minutes            float64\n",
       "Total.Day.Calls                int64\n",
       "Total.Day.Charge             float64\n",
       "Total.Eve.Minutes            float64\n",
       "Total.Eve.Calls                int64\n",
       "Total.Eve.Charge             float64\n",
       "Total.Night.Minutes          float64\n",
       "Total.Night.Calls              int64\n",
       "Total.Night.Charge           float64\n",
       "Total.Intl.Minutes           float64\n",
       "Total.Intl.Calls               int64\n",
       "Total.Intl.Charge            float64\n",
       "X..customer.Service.Calls      int64\n",
       "Churn                         object\n",
       "trainrows                     object\n",
       "dtype: object"
      ]
     },
     "execution_count": 11,
     "metadata": {},
     "output_type": "execute_result"
    }
   ],
   "source": [
    "data.dtypes"
   ]
  },
  {
   "cell_type": "code",
   "execution_count": 12,
   "id": "5bb5949d",
   "metadata": {},
   "outputs": [],
   "source": [
    "data[Categorical_Attributes] = data[Categorical_Attributes].apply(lambda col: col.astype('category'))\n",
    "data[Numerical_Attributes] = data[Numerical_Attributes].apply(lambda col: col.astype('float64'))"
   ]
  },
  {
   "cell_type": "code",
   "execution_count": 13,
   "id": "d40f120f",
   "metadata": {
    "scrolled": true
   },
   "outputs": [
    {
     "data": {
      "text/plain": [
       "International.Plan           category\n",
       "Voice.Mail.Plan              category\n",
       "X..Vmail.Messages             float64\n",
       "Total.Day.Minutes             float64\n",
       "Total.Day.Calls               float64\n",
       "Total.Day.Charge              float64\n",
       "Total.Eve.Minutes             float64\n",
       "Total.Eve.Calls               float64\n",
       "Total.Eve.Charge              float64\n",
       "Total.Night.Minutes           float64\n",
       "Total.Night.Calls             float64\n",
       "Total.Night.Charge            float64\n",
       "Total.Intl.Minutes            float64\n",
       "Total.Intl.Calls              float64\n",
       "Total.Intl.Charge             float64\n",
       "X..customer.Service.Calls     float64\n",
       "Churn                        category\n",
       "trainrows                    category\n",
       "dtype: object"
      ]
     },
     "execution_count": 13,
     "metadata": {},
     "output_type": "execute_result"
    }
   ],
   "source": [
    "data.dtypes"
   ]
  },
  {
   "cell_type": "code",
   "execution_count": 14,
   "id": "48492605",
   "metadata": {},
   "outputs": [],
   "source": [
    "data.Churn.replace({\"True.\":1, \"False.\":0}, inplace = True)\n",
    "data.trainrows.replace({\"Yes\":1, \"No\":0}, inplace = True)"
   ]
  },
  {
   "cell_type": "code",
   "execution_count": 15,
   "id": "6afa8058",
   "metadata": {},
   "outputs": [],
   "source": [
    "Final_data = pd.get_dummies(data,drop_first=True)\n",
    "# dummy_df.info()"
   ]
  },
  {
   "cell_type": "code",
   "execution_count": 16,
   "id": "c308a2ae",
   "metadata": {},
   "outputs": [
    {
     "data": {
      "text/html": [
       "<div>\n",
       "<style scoped>\n",
       "    .dataframe tbody tr th:only-of-type {\n",
       "        vertical-align: middle;\n",
       "    }\n",
       "\n",
       "    .dataframe tbody tr th {\n",
       "        vertical-align: top;\n",
       "    }\n",
       "\n",
       "    .dataframe thead th {\n",
       "        text-align: right;\n",
       "    }\n",
       "</style>\n",
       "<table border=\"1\" class=\"dataframe\">\n",
       "  <thead>\n",
       "    <tr style=\"text-align: right;\">\n",
       "      <th></th>\n",
       "      <th>X..Vmail.Messages</th>\n",
       "      <th>Total.Day.Minutes</th>\n",
       "      <th>Total.Day.Calls</th>\n",
       "      <th>Total.Day.Charge</th>\n",
       "      <th>Total.Eve.Minutes</th>\n",
       "      <th>Total.Eve.Calls</th>\n",
       "      <th>Total.Eve.Charge</th>\n",
       "      <th>Total.Night.Minutes</th>\n",
       "      <th>Total.Night.Calls</th>\n",
       "      <th>Total.Night.Charge</th>\n",
       "      <th>Total.Intl.Minutes</th>\n",
       "      <th>Total.Intl.Calls</th>\n",
       "      <th>Total.Intl.Charge</th>\n",
       "      <th>X..customer.Service.Calls</th>\n",
       "      <th>Churn</th>\n",
       "      <th>trainrows</th>\n",
       "      <th>International.Plan_yes</th>\n",
       "      <th>Voice.Mail.Plan_yes</th>\n",
       "    </tr>\n",
       "  </thead>\n",
       "  <tbody>\n",
       "    <tr>\n",
       "      <th>0</th>\n",
       "      <td>25.0</td>\n",
       "      <td>265.1</td>\n",
       "      <td>110.0</td>\n",
       "      <td>45.07</td>\n",
       "      <td>197.4</td>\n",
       "      <td>99.0</td>\n",
       "      <td>16.78</td>\n",
       "      <td>244.7</td>\n",
       "      <td>91.0</td>\n",
       "      <td>11.01</td>\n",
       "      <td>10.0</td>\n",
       "      <td>3.0</td>\n",
       "      <td>2.70</td>\n",
       "      <td>1.0</td>\n",
       "      <td>0</td>\n",
       "      <td>0</td>\n",
       "      <td>0</td>\n",
       "      <td>1</td>\n",
       "    </tr>\n",
       "    <tr>\n",
       "      <th>1</th>\n",
       "      <td>26.0</td>\n",
       "      <td>161.6</td>\n",
       "      <td>123.0</td>\n",
       "      <td>27.47</td>\n",
       "      <td>195.5</td>\n",
       "      <td>103.0</td>\n",
       "      <td>16.62</td>\n",
       "      <td>254.4</td>\n",
       "      <td>103.0</td>\n",
       "      <td>11.45</td>\n",
       "      <td>13.7</td>\n",
       "      <td>3.0</td>\n",
       "      <td>3.70</td>\n",
       "      <td>1.0</td>\n",
       "      <td>0</td>\n",
       "      <td>1</td>\n",
       "      <td>0</td>\n",
       "      <td>1</td>\n",
       "    </tr>\n",
       "    <tr>\n",
       "      <th>2</th>\n",
       "      <td>0.0</td>\n",
       "      <td>243.4</td>\n",
       "      <td>114.0</td>\n",
       "      <td>41.38</td>\n",
       "      <td>121.2</td>\n",
       "      <td>110.0</td>\n",
       "      <td>10.30</td>\n",
       "      <td>162.6</td>\n",
       "      <td>104.0</td>\n",
       "      <td>7.32</td>\n",
       "      <td>12.2</td>\n",
       "      <td>5.0</td>\n",
       "      <td>3.29</td>\n",
       "      <td>0.0</td>\n",
       "      <td>0</td>\n",
       "      <td>1</td>\n",
       "      <td>0</td>\n",
       "      <td>0</td>\n",
       "    </tr>\n",
       "    <tr>\n",
       "      <th>3</th>\n",
       "      <td>0.0</td>\n",
       "      <td>299.4</td>\n",
       "      <td>71.0</td>\n",
       "      <td>50.90</td>\n",
       "      <td>61.9</td>\n",
       "      <td>88.0</td>\n",
       "      <td>5.26</td>\n",
       "      <td>196.9</td>\n",
       "      <td>89.0</td>\n",
       "      <td>8.86</td>\n",
       "      <td>6.6</td>\n",
       "      <td>7.0</td>\n",
       "      <td>1.78</td>\n",
       "      <td>2.0</td>\n",
       "      <td>0</td>\n",
       "      <td>1</td>\n",
       "      <td>1</td>\n",
       "      <td>0</td>\n",
       "    </tr>\n",
       "    <tr>\n",
       "      <th>4</th>\n",
       "      <td>0.0</td>\n",
       "      <td>166.7</td>\n",
       "      <td>113.0</td>\n",
       "      <td>28.34</td>\n",
       "      <td>148.3</td>\n",
       "      <td>122.0</td>\n",
       "      <td>12.61</td>\n",
       "      <td>186.9</td>\n",
       "      <td>121.0</td>\n",
       "      <td>8.41</td>\n",
       "      <td>10.1</td>\n",
       "      <td>3.0</td>\n",
       "      <td>2.73</td>\n",
       "      <td>3.0</td>\n",
       "      <td>0</td>\n",
       "      <td>1</td>\n",
       "      <td>1</td>\n",
       "      <td>0</td>\n",
       "    </tr>\n",
       "  </tbody>\n",
       "</table>\n",
       "</div>"
      ],
      "text/plain": [
       "   X..Vmail.Messages  Total.Day.Minutes  Total.Day.Calls  Total.Day.Charge  \\\n",
       "0               25.0              265.1            110.0             45.07   \n",
       "1               26.0              161.6            123.0             27.47   \n",
       "2                0.0              243.4            114.0             41.38   \n",
       "3                0.0              299.4             71.0             50.90   \n",
       "4                0.0              166.7            113.0             28.34   \n",
       "\n",
       "   Total.Eve.Minutes  Total.Eve.Calls  Total.Eve.Charge  Total.Night.Minutes  \\\n",
       "0              197.4             99.0             16.78                244.7   \n",
       "1              195.5            103.0             16.62                254.4   \n",
       "2              121.2            110.0             10.30                162.6   \n",
       "3               61.9             88.0              5.26                196.9   \n",
       "4              148.3            122.0             12.61                186.9   \n",
       "\n",
       "   Total.Night.Calls  Total.Night.Charge  Total.Intl.Minutes  \\\n",
       "0               91.0               11.01                10.0   \n",
       "1              103.0               11.45                13.7   \n",
       "2              104.0                7.32                12.2   \n",
       "3               89.0                8.86                 6.6   \n",
       "4              121.0                8.41                10.1   \n",
       "\n",
       "   Total.Intl.Calls  Total.Intl.Charge  X..customer.Service.Calls  Churn  \\\n",
       "0               3.0               2.70                        1.0      0   \n",
       "1               3.0               3.70                        1.0      0   \n",
       "2               5.0               3.29                        0.0      0   \n",
       "3               7.0               1.78                        2.0      0   \n",
       "4               3.0               2.73                        3.0      0   \n",
       "\n",
       "   trainrows  International.Plan_yes  Voice.Mail.Plan_yes  \n",
       "0          0                       0                    1  \n",
       "1          1                       0                    1  \n",
       "2          1                       0                    0  \n",
       "3          1                       1                    0  \n",
       "4          1                       1                    0  "
      ]
     },
     "execution_count": 16,
     "metadata": {},
     "output_type": "execute_result"
    }
   ],
   "source": [
    "Final_data.head()"
   ]
  },
  {
   "cell_type": "markdown",
   "id": "047834cc",
   "metadata": {},
   "source": [
    "# 2. Split the data into train and validation sets based on the column ‘trainrows’.Rows with ‘yes’ belong to train data, those with ‘no’ belong to validation data.\n"
   ]
  },
  {
   "cell_type": "code",
   "execution_count": 17,
   "id": "d1dfa36b",
   "metadata": {},
   "outputs": [],
   "source": [
    "Train_data=Final_data[Final_data['trainrows']== 1]\n",
    "Test_data=Final_data[Final_data['trainrows']== 0]"
   ]
  },
  {
   "cell_type": "code",
   "execution_count": 18,
   "id": "0e1ff35b",
   "metadata": {},
   "outputs": [
    {
     "data": {
      "text/html": [
       "<div>\n",
       "<style scoped>\n",
       "    .dataframe tbody tr th:only-of-type {\n",
       "        vertical-align: middle;\n",
       "    }\n",
       "\n",
       "    .dataframe tbody tr th {\n",
       "        vertical-align: top;\n",
       "    }\n",
       "\n",
       "    .dataframe thead th {\n",
       "        text-align: right;\n",
       "    }\n",
       "</style>\n",
       "<table border=\"1\" class=\"dataframe\">\n",
       "  <thead>\n",
       "    <tr style=\"text-align: right;\">\n",
       "      <th></th>\n",
       "      <th>X..Vmail.Messages</th>\n",
       "      <th>Total.Day.Minutes</th>\n",
       "      <th>Total.Day.Calls</th>\n",
       "      <th>Total.Day.Charge</th>\n",
       "      <th>Total.Eve.Minutes</th>\n",
       "      <th>Total.Eve.Calls</th>\n",
       "      <th>Total.Eve.Charge</th>\n",
       "      <th>Total.Night.Minutes</th>\n",
       "      <th>Total.Night.Calls</th>\n",
       "      <th>Total.Night.Charge</th>\n",
       "      <th>Total.Intl.Minutes</th>\n",
       "      <th>Total.Intl.Calls</th>\n",
       "      <th>Total.Intl.Charge</th>\n",
       "      <th>X..customer.Service.Calls</th>\n",
       "      <th>Churn</th>\n",
       "      <th>trainrows</th>\n",
       "      <th>International.Plan_yes</th>\n",
       "      <th>Voice.Mail.Plan_yes</th>\n",
       "    </tr>\n",
       "  </thead>\n",
       "  <tbody>\n",
       "    <tr>\n",
       "      <th>1</th>\n",
       "      <td>26.0</td>\n",
       "      <td>161.6</td>\n",
       "      <td>123.0</td>\n",
       "      <td>27.47</td>\n",
       "      <td>195.5</td>\n",
       "      <td>103.0</td>\n",
       "      <td>16.62</td>\n",
       "      <td>254.4</td>\n",
       "      <td>103.0</td>\n",
       "      <td>11.45</td>\n",
       "      <td>13.7</td>\n",
       "      <td>3.0</td>\n",
       "      <td>3.70</td>\n",
       "      <td>1.0</td>\n",
       "      <td>0</td>\n",
       "      <td>1</td>\n",
       "      <td>0</td>\n",
       "      <td>1</td>\n",
       "    </tr>\n",
       "    <tr>\n",
       "      <th>2</th>\n",
       "      <td>0.0</td>\n",
       "      <td>243.4</td>\n",
       "      <td>114.0</td>\n",
       "      <td>41.38</td>\n",
       "      <td>121.2</td>\n",
       "      <td>110.0</td>\n",
       "      <td>10.30</td>\n",
       "      <td>162.6</td>\n",
       "      <td>104.0</td>\n",
       "      <td>7.32</td>\n",
       "      <td>12.2</td>\n",
       "      <td>5.0</td>\n",
       "      <td>3.29</td>\n",
       "      <td>0.0</td>\n",
       "      <td>0</td>\n",
       "      <td>1</td>\n",
       "      <td>0</td>\n",
       "      <td>0</td>\n",
       "    </tr>\n",
       "    <tr>\n",
       "      <th>3</th>\n",
       "      <td>0.0</td>\n",
       "      <td>299.4</td>\n",
       "      <td>71.0</td>\n",
       "      <td>50.90</td>\n",
       "      <td>61.9</td>\n",
       "      <td>88.0</td>\n",
       "      <td>5.26</td>\n",
       "      <td>196.9</td>\n",
       "      <td>89.0</td>\n",
       "      <td>8.86</td>\n",
       "      <td>6.6</td>\n",
       "      <td>7.0</td>\n",
       "      <td>1.78</td>\n",
       "      <td>2.0</td>\n",
       "      <td>0</td>\n",
       "      <td>1</td>\n",
       "      <td>1</td>\n",
       "      <td>0</td>\n",
       "    </tr>\n",
       "    <tr>\n",
       "      <th>4</th>\n",
       "      <td>0.0</td>\n",
       "      <td>166.7</td>\n",
       "      <td>113.0</td>\n",
       "      <td>28.34</td>\n",
       "      <td>148.3</td>\n",
       "      <td>122.0</td>\n",
       "      <td>12.61</td>\n",
       "      <td>186.9</td>\n",
       "      <td>121.0</td>\n",
       "      <td>8.41</td>\n",
       "      <td>10.1</td>\n",
       "      <td>3.0</td>\n",
       "      <td>2.73</td>\n",
       "      <td>3.0</td>\n",
       "      <td>0</td>\n",
       "      <td>1</td>\n",
       "      <td>1</td>\n",
       "      <td>0</td>\n",
       "    </tr>\n",
       "    <tr>\n",
       "      <th>5</th>\n",
       "      <td>0.0</td>\n",
       "      <td>223.4</td>\n",
       "      <td>98.0</td>\n",
       "      <td>37.98</td>\n",
       "      <td>220.6</td>\n",
       "      <td>101.0</td>\n",
       "      <td>18.75</td>\n",
       "      <td>203.9</td>\n",
       "      <td>118.0</td>\n",
       "      <td>9.18</td>\n",
       "      <td>6.3</td>\n",
       "      <td>6.0</td>\n",
       "      <td>1.70</td>\n",
       "      <td>0.0</td>\n",
       "      <td>0</td>\n",
       "      <td>1</td>\n",
       "      <td>1</td>\n",
       "      <td>0</td>\n",
       "    </tr>\n",
       "  </tbody>\n",
       "</table>\n",
       "</div>"
      ],
      "text/plain": [
       "   X..Vmail.Messages  Total.Day.Minutes  Total.Day.Calls  Total.Day.Charge  \\\n",
       "1               26.0              161.6            123.0             27.47   \n",
       "2                0.0              243.4            114.0             41.38   \n",
       "3                0.0              299.4             71.0             50.90   \n",
       "4                0.0              166.7            113.0             28.34   \n",
       "5                0.0              223.4             98.0             37.98   \n",
       "\n",
       "   Total.Eve.Minutes  Total.Eve.Calls  Total.Eve.Charge  Total.Night.Minutes  \\\n",
       "1              195.5            103.0             16.62                254.4   \n",
       "2              121.2            110.0             10.30                162.6   \n",
       "3               61.9             88.0              5.26                196.9   \n",
       "4              148.3            122.0             12.61                186.9   \n",
       "5              220.6            101.0             18.75                203.9   \n",
       "\n",
       "   Total.Night.Calls  Total.Night.Charge  Total.Intl.Minutes  \\\n",
       "1              103.0               11.45                13.7   \n",
       "2              104.0                7.32                12.2   \n",
       "3               89.0                8.86                 6.6   \n",
       "4              121.0                8.41                10.1   \n",
       "5              118.0                9.18                 6.3   \n",
       "\n",
       "   Total.Intl.Calls  Total.Intl.Charge  X..customer.Service.Calls  Churn  \\\n",
       "1               3.0               3.70                        1.0      0   \n",
       "2               5.0               3.29                        0.0      0   \n",
       "3               7.0               1.78                        2.0      0   \n",
       "4               3.0               2.73                        3.0      0   \n",
       "5               6.0               1.70                        0.0      0   \n",
       "\n",
       "   trainrows  International.Plan_yes  Voice.Mail.Plan_yes  \n",
       "1          1                       0                    1  \n",
       "2          1                       0                    0  \n",
       "3          1                       1                    0  \n",
       "4          1                       1                    0  \n",
       "5          1                       1                    0  "
      ]
     },
     "execution_count": 18,
     "metadata": {},
     "output_type": "execute_result"
    }
   ],
   "source": [
    "Train_data.head()"
   ]
  },
  {
   "cell_type": "code",
   "execution_count": 19,
   "id": "56acdadf",
   "metadata": {},
   "outputs": [
    {
     "data": {
      "text/html": [
       "<div>\n",
       "<style scoped>\n",
       "    .dataframe tbody tr th:only-of-type {\n",
       "        vertical-align: middle;\n",
       "    }\n",
       "\n",
       "    .dataframe tbody tr th {\n",
       "        vertical-align: top;\n",
       "    }\n",
       "\n",
       "    .dataframe thead th {\n",
       "        text-align: right;\n",
       "    }\n",
       "</style>\n",
       "<table border=\"1\" class=\"dataframe\">\n",
       "  <thead>\n",
       "    <tr style=\"text-align: right;\">\n",
       "      <th></th>\n",
       "      <th>X..Vmail.Messages</th>\n",
       "      <th>Total.Day.Minutes</th>\n",
       "      <th>Total.Day.Calls</th>\n",
       "      <th>Total.Day.Charge</th>\n",
       "      <th>Total.Eve.Minutes</th>\n",
       "      <th>Total.Eve.Calls</th>\n",
       "      <th>Total.Eve.Charge</th>\n",
       "      <th>Total.Night.Minutes</th>\n",
       "      <th>Total.Night.Calls</th>\n",
       "      <th>Total.Night.Charge</th>\n",
       "      <th>Total.Intl.Minutes</th>\n",
       "      <th>Total.Intl.Calls</th>\n",
       "      <th>Total.Intl.Charge</th>\n",
       "      <th>X..customer.Service.Calls</th>\n",
       "      <th>Churn</th>\n",
       "      <th>trainrows</th>\n",
       "      <th>International.Plan_yes</th>\n",
       "      <th>Voice.Mail.Plan_yes</th>\n",
       "    </tr>\n",
       "  </thead>\n",
       "  <tbody>\n",
       "    <tr>\n",
       "      <th>0</th>\n",
       "      <td>25.0</td>\n",
       "      <td>265.1</td>\n",
       "      <td>110.0</td>\n",
       "      <td>45.07</td>\n",
       "      <td>197.4</td>\n",
       "      <td>99.0</td>\n",
       "      <td>16.78</td>\n",
       "      <td>244.7</td>\n",
       "      <td>91.0</td>\n",
       "      <td>11.01</td>\n",
       "      <td>10.0</td>\n",
       "      <td>3.0</td>\n",
       "      <td>2.70</td>\n",
       "      <td>1.0</td>\n",
       "      <td>0</td>\n",
       "      <td>0</td>\n",
       "      <td>0</td>\n",
       "      <td>1</td>\n",
       "    </tr>\n",
       "    <tr>\n",
       "      <th>6</th>\n",
       "      <td>24.0</td>\n",
       "      <td>218.2</td>\n",
       "      <td>88.0</td>\n",
       "      <td>37.09</td>\n",
       "      <td>348.5</td>\n",
       "      <td>108.0</td>\n",
       "      <td>29.62</td>\n",
       "      <td>212.6</td>\n",
       "      <td>118.0</td>\n",
       "      <td>9.57</td>\n",
       "      <td>7.5</td>\n",
       "      <td>7.0</td>\n",
       "      <td>2.03</td>\n",
       "      <td>3.0</td>\n",
       "      <td>0</td>\n",
       "      <td>0</td>\n",
       "      <td>0</td>\n",
       "      <td>1</td>\n",
       "    </tr>\n",
       "    <tr>\n",
       "      <th>18</th>\n",
       "      <td>33.0</td>\n",
       "      <td>189.7</td>\n",
       "      <td>66.0</td>\n",
       "      <td>32.25</td>\n",
       "      <td>212.8</td>\n",
       "      <td>65.0</td>\n",
       "      <td>18.09</td>\n",
       "      <td>165.7</td>\n",
       "      <td>108.0</td>\n",
       "      <td>7.46</td>\n",
       "      <td>10.0</td>\n",
       "      <td>5.0</td>\n",
       "      <td>2.70</td>\n",
       "      <td>1.0</td>\n",
       "      <td>0</td>\n",
       "      <td>0</td>\n",
       "      <td>0</td>\n",
       "      <td>1</td>\n",
       "    </tr>\n",
       "    <tr>\n",
       "      <th>23</th>\n",
       "      <td>0.0</td>\n",
       "      <td>110.4</td>\n",
       "      <td>103.0</td>\n",
       "      <td>18.77</td>\n",
       "      <td>137.3</td>\n",
       "      <td>102.0</td>\n",
       "      <td>11.67</td>\n",
       "      <td>189.6</td>\n",
       "      <td>105.0</td>\n",
       "      <td>8.53</td>\n",
       "      <td>7.7</td>\n",
       "      <td>6.0</td>\n",
       "      <td>2.08</td>\n",
       "      <td>2.0</td>\n",
       "      <td>0</td>\n",
       "      <td>0</td>\n",
       "      <td>0</td>\n",
       "      <td>0</td>\n",
       "    </tr>\n",
       "    <tr>\n",
       "      <th>27</th>\n",
       "      <td>0.0</td>\n",
       "      <td>134.3</td>\n",
       "      <td>73.0</td>\n",
       "      <td>22.83</td>\n",
       "      <td>155.5</td>\n",
       "      <td>100.0</td>\n",
       "      <td>13.22</td>\n",
       "      <td>102.1</td>\n",
       "      <td>68.0</td>\n",
       "      <td>4.59</td>\n",
       "      <td>14.7</td>\n",
       "      <td>4.0</td>\n",
       "      <td>3.97</td>\n",
       "      <td>3.0</td>\n",
       "      <td>0</td>\n",
       "      <td>0</td>\n",
       "      <td>0</td>\n",
       "      <td>0</td>\n",
       "    </tr>\n",
       "  </tbody>\n",
       "</table>\n",
       "</div>"
      ],
      "text/plain": [
       "    X..Vmail.Messages  Total.Day.Minutes  Total.Day.Calls  Total.Day.Charge  \\\n",
       "0                25.0              265.1            110.0             45.07   \n",
       "6                24.0              218.2             88.0             37.09   \n",
       "18               33.0              189.7             66.0             32.25   \n",
       "23                0.0              110.4            103.0             18.77   \n",
       "27                0.0              134.3             73.0             22.83   \n",
       "\n",
       "    Total.Eve.Minutes  Total.Eve.Calls  Total.Eve.Charge  Total.Night.Minutes  \\\n",
       "0               197.4             99.0             16.78                244.7   \n",
       "6               348.5            108.0             29.62                212.6   \n",
       "18              212.8             65.0             18.09                165.7   \n",
       "23              137.3            102.0             11.67                189.6   \n",
       "27              155.5            100.0             13.22                102.1   \n",
       "\n",
       "    Total.Night.Calls  Total.Night.Charge  Total.Intl.Minutes  \\\n",
       "0                91.0               11.01                10.0   \n",
       "6               118.0                9.57                 7.5   \n",
       "18              108.0                7.46                10.0   \n",
       "23              105.0                8.53                 7.7   \n",
       "27               68.0                4.59                14.7   \n",
       "\n",
       "    Total.Intl.Calls  Total.Intl.Charge  X..customer.Service.Calls  Churn  \\\n",
       "0                3.0               2.70                        1.0      0   \n",
       "6                7.0               2.03                        3.0      0   \n",
       "18               5.0               2.70                        1.0      0   \n",
       "23               6.0               2.08                        2.0      0   \n",
       "27               4.0               3.97                        3.0      0   \n",
       "\n",
       "    trainrows  International.Plan_yes  Voice.Mail.Plan_yes  \n",
       "0           0                       0                    1  \n",
       "6           0                       0                    1  \n",
       "18          0                       0                    1  \n",
       "23          0                       0                    0  \n",
       "27          0                       0                    0  "
      ]
     },
     "execution_count": 19,
     "metadata": {},
     "output_type": "execute_result"
    }
   ],
   "source": [
    "Test_data.head()"
   ]
  },
  {
   "cell_type": "code",
   "execution_count": 20,
   "id": "4b928055",
   "metadata": {},
   "outputs": [],
   "source": [
    "x_train = Train_data.drop('Churn', axis=1).drop('trainrows',axis=1)#independent variables\n",
    "y_train = Train_data['Churn']#dependent variables\n",
    "\n",
    "x_test = Test_data.drop('Churn', axis=1).drop('trainrows',axis=1)#independent variables\n",
    "y_test = Test_data['Churn']#dependent variables"
   ]
  },
  {
   "cell_type": "code",
   "execution_count": 21,
   "id": "ec5b8bd6",
   "metadata": {},
   "outputs": [
    {
     "name": "stdout",
     "output_type": "stream",
     "text": [
      "(3500, 16)\n",
      "(1500, 16)\n"
     ]
    }
   ],
   "source": [
    "print(x_train.shape)\n",
    "print(x_test.shape)"
   ]
  },
  {
   "cell_type": "code",
   "execution_count": 22,
   "id": "c76386fa",
   "metadata": {},
   "outputs": [],
   "source": [
    "le = LabelEncoder()\n",
    "\n",
    "y_train = le.fit_transform(y_train)\n",
    "y_test = le.transform(y_test)"
   ]
  },
  {
   "cell_type": "code",
   "execution_count": 23,
   "id": "00087eb3",
   "metadata": {},
   "outputs": [
    {
     "data": {
      "text/plain": [
       "array([0, 0, 0, ..., 0, 0, 0], dtype=int64)"
      ]
     },
     "execution_count": 23,
     "metadata": {},
     "output_type": "execute_result"
    }
   ],
   "source": [
    "y_train"
   ]
  },
  {
   "cell_type": "markdown",
   "id": "8443d711",
   "metadata": {},
   "source": [
    "# 3. Model Building -\n",
    "\n",
    "## i. Model 1 - Model_Basic: Build Basic model on all attributes, analyze model performance\n"
   ]
  },
  {
   "cell_type": "code",
   "execution_count": 24,
   "id": "0d4154ce",
   "metadata": {
    "scrolled": false
   },
   "outputs": [
    {
     "name": "stdout",
     "output_type": "stream",
     "text": [
      "0    2998\n",
      "1     502\n",
      "dtype: int64\n",
      "0    1295\n",
      "1     205\n",
      "dtype: int64\n"
     ]
    }
   ],
   "source": [
    "print(pd.value_counts(y_train))\n",
    "print(pd.value_counts(y_test))"
   ]
  },
  {
   "cell_type": "code",
   "execution_count": 25,
   "id": "c39d6238",
   "metadata": {},
   "outputs": [],
   "source": [
    "lr_model = LogisticRegression(solver='liblinear', random_state=1100)"
   ]
  },
  {
   "cell_type": "code",
   "execution_count": 26,
   "id": "3b1f1a3c",
   "metadata": {},
   "outputs": [],
   "source": [
    "Model_1=lr_model.fit(x_train, y_train)"
   ]
  },
  {
   "cell_type": "markdown",
   "id": "1a7dabc1",
   "metadata": {},
   "source": [
    "## ii. Interpret the model output\n",
    "#### 1. Significance of overall model"
   ]
  },
  {
   "cell_type": "code",
   "execution_count": 27,
   "id": "d363ba74",
   "metadata": {},
   "outputs": [
    {
     "data": {
      "text/plain": [
       "array([[ 0.02095028,  0.01133634, -0.00229342,  0.00338879,  0.00475436,\n",
       "        -0.00515126,  0.00785622,  0.00412194, -0.0043762 , -0.01530821,\n",
       "         0.05592186, -0.08264171,  0.02035311,  0.44525313,  2.04488687,\n",
       "        -1.7458658 ]])"
      ]
     },
     "execution_count": 27,
     "metadata": {},
     "output_type": "execute_result"
    }
   ],
   "source": [
    "Model_1.coef_"
   ]
  },
  {
   "cell_type": "code",
   "execution_count": 28,
   "id": "ec6eaa0d",
   "metadata": {},
   "outputs": [
    {
     "data": {
      "text/html": [
       "<div>\n",
       "<style scoped>\n",
       "    .dataframe tbody tr th:only-of-type {\n",
       "        vertical-align: middle;\n",
       "    }\n",
       "\n",
       "    .dataframe tbody tr th {\n",
       "        vertical-align: top;\n",
       "    }\n",
       "\n",
       "    .dataframe thead th {\n",
       "        text-align: right;\n",
       "    }\n",
       "</style>\n",
       "<table border=\"1\" class=\"dataframe\">\n",
       "  <thead>\n",
       "    <tr style=\"text-align: right;\">\n",
       "      <th></th>\n",
       "      <th>Variable</th>\n",
       "      <th>coefficient</th>\n",
       "    </tr>\n",
       "  </thead>\n",
       "  <tbody>\n",
       "    <tr>\n",
       "      <th>0</th>\n",
       "      <td>X..Vmail.Messages</td>\n",
       "      <td>0.020950</td>\n",
       "    </tr>\n",
       "    <tr>\n",
       "      <th>1</th>\n",
       "      <td>Total.Day.Minutes</td>\n",
       "      <td>0.011336</td>\n",
       "    </tr>\n",
       "    <tr>\n",
       "      <th>2</th>\n",
       "      <td>Total.Day.Calls</td>\n",
       "      <td>-0.002293</td>\n",
       "    </tr>\n",
       "    <tr>\n",
       "      <th>3</th>\n",
       "      <td>Total.Day.Charge</td>\n",
       "      <td>0.003389</td>\n",
       "    </tr>\n",
       "    <tr>\n",
       "      <th>4</th>\n",
       "      <td>Total.Eve.Minutes</td>\n",
       "      <td>0.004754</td>\n",
       "    </tr>\n",
       "    <tr>\n",
       "      <th>5</th>\n",
       "      <td>Total.Eve.Calls</td>\n",
       "      <td>-0.005151</td>\n",
       "    </tr>\n",
       "    <tr>\n",
       "      <th>6</th>\n",
       "      <td>Total.Eve.Charge</td>\n",
       "      <td>0.007856</td>\n",
       "    </tr>\n",
       "    <tr>\n",
       "      <th>7</th>\n",
       "      <td>Total.Night.Minutes</td>\n",
       "      <td>0.004122</td>\n",
       "    </tr>\n",
       "    <tr>\n",
       "      <th>8</th>\n",
       "      <td>Total.Night.Calls</td>\n",
       "      <td>-0.004376</td>\n",
       "    </tr>\n",
       "    <tr>\n",
       "      <th>9</th>\n",
       "      <td>Total.Night.Charge</td>\n",
       "      <td>-0.015308</td>\n",
       "    </tr>\n",
       "    <tr>\n",
       "      <th>10</th>\n",
       "      <td>Total.Intl.Minutes</td>\n",
       "      <td>0.055922</td>\n",
       "    </tr>\n",
       "    <tr>\n",
       "      <th>11</th>\n",
       "      <td>Total.Intl.Calls</td>\n",
       "      <td>-0.082642</td>\n",
       "    </tr>\n",
       "    <tr>\n",
       "      <th>12</th>\n",
       "      <td>Total.Intl.Charge</td>\n",
       "      <td>0.020353</td>\n",
       "    </tr>\n",
       "    <tr>\n",
       "      <th>13</th>\n",
       "      <td>X..customer.Service.Calls</td>\n",
       "      <td>0.445253</td>\n",
       "    </tr>\n",
       "    <tr>\n",
       "      <th>14</th>\n",
       "      <td>International.Plan_yes</td>\n",
       "      <td>2.044887</td>\n",
       "    </tr>\n",
       "    <tr>\n",
       "      <th>15</th>\n",
       "      <td>Voice.Mail.Plan_yes</td>\n",
       "      <td>-1.745866</td>\n",
       "    </tr>\n",
       "  </tbody>\n",
       "</table>\n",
       "</div>"
      ],
      "text/plain": [
       "                     Variable  coefficient\n",
       "0           X..Vmail.Messages     0.020950\n",
       "1           Total.Day.Minutes     0.011336\n",
       "2             Total.Day.Calls    -0.002293\n",
       "3            Total.Day.Charge     0.003389\n",
       "4           Total.Eve.Minutes     0.004754\n",
       "5             Total.Eve.Calls    -0.005151\n",
       "6            Total.Eve.Charge     0.007856\n",
       "7         Total.Night.Minutes     0.004122\n",
       "8           Total.Night.Calls    -0.004376\n",
       "9          Total.Night.Charge    -0.015308\n",
       "10         Total.Intl.Minutes     0.055922\n",
       "11           Total.Intl.Calls    -0.082642\n",
       "12          Total.Intl.Charge     0.020353\n",
       "13  X..customer.Service.Calls     0.445253\n",
       "14     International.Plan_yes     2.044887\n",
       "15        Voice.Mail.Plan_yes    -1.745866"
      ]
     },
     "execution_count": 28,
     "metadata": {},
     "output_type": "execute_result"
    }
   ],
   "source": [
    "variables = [tup for tup in x_train.columns.values]\n",
    "coef = pd.concat([pd.Series(variables), pd.Series(lr_model.coef_.reshape(-1))], axis=1)\n",
    "coef.columns=[\"Variable\", \"coefficient\"]\n",
    "coef"
   ]
  },
  {
   "cell_type": "code",
   "execution_count": 29,
   "id": "bc6b7656",
   "metadata": {},
   "outputs": [],
   "source": [
    "y_train_Pred = lr_model.predict(x_train)\n",
    "y_test_Pred = lr_model.predict(x_test)"
   ]
  },
  {
   "cell_type": "code",
   "execution_count": 30,
   "id": "fccfe40f",
   "metadata": {},
   "outputs": [
    {
     "name": "stdout",
     "output_type": "stream",
     "text": [
      "Confusion matrix\n",
      "\n",
      " [[1268   27]\n",
      " [ 175   30]]\n",
      "\n",
      "True Positives(TP) =  1268\n",
      "\n",
      "True Negatives(TN) =  30\n",
      "\n",
      "False Positives(FP) =  27\n",
      "\n",
      "False Negatives(FN) =  175\n"
     ]
    }
   ],
   "source": [
    "cm = confusion_matrix(y_test, y_test_Pred)\n",
    "\n",
    "print('Confusion matrix\\n\\n', cm)\n",
    "\n",
    "print('\\nTrue Positives(TP) = ', cm[0,0])\n",
    "\n",
    "print('\\nTrue Negatives(TN) = ', cm[1,1])\n",
    "\n",
    "print('\\nFalse Positives(FP) = ', cm[0,1])\n",
    "\n",
    "print('\\nFalse Negatives(FN) = ', cm[1,0])"
   ]
  },
  {
   "cell_type": "code",
   "execution_count": 31,
   "id": "c845c2b9",
   "metadata": {},
   "outputs": [
    {
     "data": {
      "image/png": "[encoded data removed]",
      "text/plain": [
       "<Figure size 432x288 with 2 Axes>"
      ]
     },
     "metadata": {
      "needs_background": "light"
     },
     "output_type": "display_data"
    }
   ],
   "source": [
    "cm_matrix = pd.DataFrame(data=cm, columns=['Actual Positive:1', 'Actual Negative:0'], index=['Predict Positive:1', 'Predict Negative:0'])\n",
    "sns.heatmap(cm_matrix, annot=True, fmt='d')\n",
    "plt.show()"
   ]
  },
  {
   "cell_type": "markdown",
   "id": "fc8290fc",
   "metadata": {},
   "source": [
    "## 2. Interpret coefficients for any of the numerical and categorical attributes"
   ]
  },
  {
   "cell_type": "code",
   "execution_count": 32,
   "id": "185724b7",
   "metadata": {},
   "outputs": [
    {
     "data": {
      "text/plain": [
       "0.884196668354887"
      ]
     },
     "execution_count": 32,
     "metadata": {},
     "output_type": "execute_result"
    }
   ],
   "source": [
    "#cheking the model equation\n",
    "XVmailMessages=7.762\n",
    "TotalDayMinutes=256.1\n",
    "TotalDayCalls=88.1\n",
    "TotalDayCharge=35.9\n",
    "TotalEveMinutes=250.5\n",
    "TotalEveCalls=100\n",
    "TotalEveCharge=12\n",
    "TotalNightMinutes=190\n",
    "TotalNightCalls=100\n",
    "TotalNightCharge=10\n",
    "TotalIntlMinutes=10\n",
    "TotalIntlCalls=5\n",
    "TotalIntlCharge=2.08\n",
    "XcustomerServiceCalls=3\n",
    "InternationalPlan_yes=1\n",
    "VoiceMailPlan_yes=1\n",
    "\n",
    "odds=np.exp((1+(0.013979*XVmailMessages)-(0.011955*TotalDayMinutes)-(0.000673*TotalDayCalls)+(0.003243*TotalDayCharge)+(0.005504*TotalEveMinutes)\n",
    "            -(0.003379*TotalEveCalls)+(0.007238*TotalEveCharge)+(0.004523*TotalNightMinutes)\n",
    "             -(0.002746*TotalNightCalls)-(0.011915*TotalNightCharge)+(0.065583*TotalIntlMinutes)\n",
    "             -(0.078683*TotalIntlCalls)+(0.023641*TotalIntlCharge)+(0.459059*XcustomerServiceCalls)\n",
    "             +(2.075271*InternationalPlan_yes)-(1.428540*VoiceMailPlan_yes)))\n",
    "odds/(odds+1)"
   ]
  },
  {
   "cell_type": "markdown",
   "id": "8ef042a7",
   "metadata": {},
   "source": [
    "## iii. Choose the appropriate evaluation metric"
   ]
  },
  {
   "cell_type": "code",
   "execution_count": 33,
   "id": "1e4723cd",
   "metadata": {},
   "outputs": [
    {
     "name": "stdout",
     "output_type": "stream",
     "text": [
      "========Train=======\n",
      "Accuracy of model 1 \n",
      "0.8642857142857143\n",
      "========Test=======\n",
      "Accuracy of model 1 \n",
      "0.8653333333333333\n"
     ]
    }
   ],
   "source": [
    "print('========Train=======')\n",
    "print(f\"Accuracy of model 1 \\n{accuracy_score(y_train, y_train_Pred)}\")\n",
    "\n",
    "print('========Test=======')\n",
    "print(f\"Accuracy of model 1 \\n{accuracy_score(y_test, y_test_Pred)}\")"
   ]
  },
  {
   "cell_type": "code",
   "execution_count": 34,
   "id": "94cda451",
   "metadata": {},
   "outputs": [
    {
     "name": "stdout",
     "output_type": "stream",
     "text": [
      "              precision    recall  f1-score   support\n",
      "\n",
      "           0       0.88      0.98      0.93      1295\n",
      "           1       0.53      0.15      0.23       205\n",
      "\n",
      "    accuracy                           0.87      1500\n",
      "   macro avg       0.70      0.56      0.58      1500\n",
      "weighted avg       0.83      0.87      0.83      1500\n",
      "\n"
     ]
    }
   ],
   "source": [
    "from sklearn.metrics import classification_report\n",
    "\n",
    "print(classification_report(y_test, y_test_Pred))"
   ]
  },
  {
   "cell_type": "markdown",
   "id": "2a41c10f",
   "metadata": {},
   "source": [
    "# 4. Steps to improve Model performance\n",
    " ## a. Build additional models:"
   ]
  },
  {
   "cell_type": "markdown",
   "id": "554febfd",
   "metadata": {},
   "source": [
    "### i. Model 2 : Check for multicollinearity using VIF, and build the model after removing multi-collinear attributes; analyze model performance"
   ]
  },
  {
   "cell_type": "code",
   "execution_count": 35,
   "id": "69fce2be",
   "metadata": {},
   "outputs": [
    {
     "name": "stdout",
     "output_type": "stream",
     "text": [
      "                      feature           VIF\n",
      "0           X..Vmail.Messages  1.327051e+00\n",
      "1           Total.Day.Minutes  1.244923e+08\n",
      "2             Total.Day.Calls  2.169452e+01\n",
      "3            Total.Day.Charge  1.244967e+08\n",
      "4           Total.Eve.Minutes  3.727495e+07\n",
      "5             Total.Eve.Calls  2.164905e+01\n",
      "6            Total.Eve.Charge  3.727605e+07\n",
      "7         Total.Night.Minutes  1.056953e+07\n",
      "8           Total.Night.Calls  2.148014e+01\n",
      "9          Total.Night.Charge  1.056960e+07\n",
      "10         Total.Intl.Minutes  1.010930e+06\n",
      "11           Total.Intl.Calls  4.179857e+00\n",
      "12          Total.Intl.Charge  1.011426e+06\n",
      "13  X..customer.Service.Calls  2.413970e+00\n"
     ]
    }
   ],
   "source": [
    "from statsmodels.stats.outliers_influence import variance_inflation_factor\n",
    "\n",
    "# the independent variables set\n",
    "X = data[Numerical_Attributes]\n",
    "\n",
    "# VIF dataframe\n",
    "vif_data = pd.DataFrame()\n",
    "vif_data[\"feature\"] = X.columns\n",
    "\n",
    "# calculating VIF for each feature\n",
    "vif_data[\"VIF\"] = [variance_inflation_factor(X.values, i)\n",
    "for i in range(len(X.columns))]\n",
    "print(vif_data)"
   ]
  },
  {
   "cell_type": "code",
   "execution_count": 36,
   "id": "d5b5ffeb",
   "metadata": {},
   "outputs": [
    {
     "name": "stdout",
     "output_type": "stream",
     "text": [
      "                      feature       VIF\n",
      "0           X..Vmail.Messages  1.327051\n",
      "13  X..customer.Service.Calls  2.413970\n"
     ]
    }
   ],
   "source": [
    "data_vif_filter=vif_data[vif_data['VIF']<4]\n",
    "print(data_vif_filter)"
   ]
  },
  {
   "cell_type": "code",
   "execution_count": 37,
   "id": "2bc1a526",
   "metadata": {},
   "outputs": [],
   "source": [
    "# vif_filter_columns=[ ]\n",
    "# for i in data_vif_filter:\n",
    "#     vif_filter_columns.append(data_vif_filter.feature)\n",
    "# print(vif_filter_columns)"
   ]
  },
  {
   "cell_type": "code",
   "execution_count": 38,
   "id": "4bc7f13d",
   "metadata": {},
   "outputs": [],
   "source": [
    "Columns_Vif_Filter=['X..Vmail.Messages','X..customer.Service.Calls','Churn','International.Plan_yes','Voice.Mail.Plan_yes','trainrows']"
   ]
  },
  {
   "cell_type": "code",
   "execution_count": 39,
   "id": "fe64be67",
   "metadata": {},
   "outputs": [],
   "source": [
    "Vif_dataset=Final_data[Columns_Vif_Filter]"
   ]
  },
  {
   "cell_type": "code",
   "execution_count": 40,
   "id": "b66df6c8",
   "metadata": {},
   "outputs": [
    {
     "data": {
      "text/html": [
       "<div>\n",
       "<style scoped>\n",
       "    .dataframe tbody tr th:only-of-type {\n",
       "        vertical-align: middle;\n",
       "    }\n",
       "\n",
       "    .dataframe tbody tr th {\n",
       "        vertical-align: top;\n",
       "    }\n",
       "\n",
       "    .dataframe thead th {\n",
       "        text-align: right;\n",
       "    }\n",
       "</style>\n",
       "<table border=\"1\" class=\"dataframe\">\n",
       "  <thead>\n",
       "    <tr style=\"text-align: right;\">\n",
       "      <th></th>\n",
       "      <th>X..Vmail.Messages</th>\n",
       "      <th>X..customer.Service.Calls</th>\n",
       "      <th>Churn</th>\n",
       "      <th>International.Plan_yes</th>\n",
       "      <th>Voice.Mail.Plan_yes</th>\n",
       "      <th>trainrows</th>\n",
       "    </tr>\n",
       "  </thead>\n",
       "  <tbody>\n",
       "    <tr>\n",
       "      <th>0</th>\n",
       "      <td>25.0</td>\n",
       "      <td>1.0</td>\n",
       "      <td>0</td>\n",
       "      <td>0</td>\n",
       "      <td>1</td>\n",
       "      <td>0</td>\n",
       "    </tr>\n",
       "    <tr>\n",
       "      <th>1</th>\n",
       "      <td>26.0</td>\n",
       "      <td>1.0</td>\n",
       "      <td>0</td>\n",
       "      <td>0</td>\n",
       "      <td>1</td>\n",
       "      <td>1</td>\n",
       "    </tr>\n",
       "    <tr>\n",
       "      <th>2</th>\n",
       "      <td>0.0</td>\n",
       "      <td>0.0</td>\n",
       "      <td>0</td>\n",
       "      <td>0</td>\n",
       "      <td>0</td>\n",
       "      <td>1</td>\n",
       "    </tr>\n",
       "    <tr>\n",
       "      <th>3</th>\n",
       "      <td>0.0</td>\n",
       "      <td>2.0</td>\n",
       "      <td>0</td>\n",
       "      <td>1</td>\n",
       "      <td>0</td>\n",
       "      <td>1</td>\n",
       "    </tr>\n",
       "    <tr>\n",
       "      <th>4</th>\n",
       "      <td>0.0</td>\n",
       "      <td>3.0</td>\n",
       "      <td>0</td>\n",
       "      <td>1</td>\n",
       "      <td>0</td>\n",
       "      <td>1</td>\n",
       "    </tr>\n",
       "  </tbody>\n",
       "</table>\n",
       "</div>"
      ],
      "text/plain": [
       "   X..Vmail.Messages  X..customer.Service.Calls  Churn  \\\n",
       "0               25.0                        1.0      0   \n",
       "1               26.0                        1.0      0   \n",
       "2                0.0                        0.0      0   \n",
       "3                0.0                        2.0      0   \n",
       "4                0.0                        3.0      0   \n",
       "\n",
       "   International.Plan_yes  Voice.Mail.Plan_yes  trainrows  \n",
       "0                       0                    1          0  \n",
       "1                       0                    1          1  \n",
       "2                       0                    0          1  \n",
       "3                       1                    0          1  \n",
       "4                       1                    0          1  "
      ]
     },
     "execution_count": 40,
     "metadata": {},
     "output_type": "execute_result"
    }
   ],
   "source": [
    "Vif_dataset.head()"
   ]
  },
  {
   "cell_type": "code",
   "execution_count": 41,
   "id": "b461c086",
   "metadata": {},
   "outputs": [],
   "source": [
    "Train_data2=Vif_dataset[Vif_dataset['trainrows']== 1]\n",
    "Test_data2=Vif_dataset[Vif_dataset['trainrows']== 0]"
   ]
  },
  {
   "cell_type": "code",
   "execution_count": 42,
   "id": "666b5aac",
   "metadata": {},
   "outputs": [],
   "source": [
    "x2_train = Train_data2.drop('Churn', axis=1).drop('trainrows',axis=1)#independent variables\n",
    "y2_train = Train_data2['Churn']#dependent variables\n",
    "\n",
    "x2_test = Test_data2.drop('Churn', axis=1).drop('trainrows',axis=1)#independent variables\n",
    "y2_test = Test_data2['Churn']#dependent variables"
   ]
  },
  {
   "cell_type": "code",
   "execution_count": 43,
   "id": "f5368523",
   "metadata": {},
   "outputs": [],
   "source": [
    "le = LabelEncoder()\n",
    "\n",
    "y2_train = le.fit_transform(y2_train)\n",
    "y2_test = le.transform(y2_test)"
   ]
  },
  {
   "cell_type": "code",
   "execution_count": 44,
   "id": "32de26a9",
   "metadata": {},
   "outputs": [],
   "source": [
    "Model_2=lr_model.fit(x2_train, y2_train)"
   ]
  },
  {
   "cell_type": "code",
   "execution_count": 45,
   "id": "1a5552f4",
   "metadata": {},
   "outputs": [],
   "source": [
    "# Model2=sm.Logit(y2_train,x2_train)"
   ]
  },
  {
   "cell_type": "code",
   "execution_count": 46,
   "id": "cfd099a0",
   "metadata": {},
   "outputs": [
    {
     "name": "stdout",
     "output_type": "stream",
     "text": [
      "LogisticRegression(random_state=1100, solver='liblinear')\n"
     ]
    }
   ],
   "source": [
    "print(Model_2)"
   ]
  },
  {
   "cell_type": "code",
   "execution_count": 47,
   "id": "fe5f3a1d",
   "metadata": {},
   "outputs": [],
   "source": [
    "y2_train_Pred = lr_model.predict(x2_train)\n",
    "y2_test_Pred = lr_model.predict(x2_test)"
   ]
  },
  {
   "cell_type": "code",
   "execution_count": 48,
   "id": "9b9608d9",
   "metadata": {},
   "outputs": [
    {
     "name": "stdout",
     "output_type": "stream",
     "text": [
      "Confusion matrix\n",
      "\n",
      " [[1274   21]\n",
      " [ 186   19]]\n",
      "\n",
      "True Positives(TP) =  1274\n",
      "\n",
      "True Negatives(TN) =  19\n",
      "\n",
      "False Positives(FP) =  21\n",
      "\n",
      "False Negatives(FN) =  186\n"
     ]
    }
   ],
   "source": [
    "from sklearn.metrics import confusion_matrix\n",
    "\n",
    "cm2 = confusion_matrix(y2_test, y2_test_Pred)\n",
    "\n",
    "print('Confusion matrix\\n\\n', cm2)\n",
    "\n",
    "print('\\nTrue Positives(TP) = ', cm2[0,0])\n",
    "\n",
    "print('\\nTrue Negatives(TN) = ', cm2[1,1])\n",
    "\n",
    "print('\\nFalse Positives(FP) = ', cm2[0,1])\n",
    "\n",
    "print('\\nFalse Negatives(FN) = ', cm2[1,0])"
   ]
  },
  {
   "cell_type": "code",
   "execution_count": 49,
   "id": "9649c7fa",
   "metadata": {},
   "outputs": [
    {
     "data": {
      "image/png": "[encoded data removed]",
      "text/plain": [
       "<Figure size 432x288 with 2 Axes>"
      ]
     },
     "metadata": {
      "needs_background": "light"
     },
     "output_type": "display_data"
    }
   ],
   "source": [
    "cm2_matrix = pd.DataFrame(data=cm2, columns=['Actual Positive:1', 'Actual Negative:0'], \n",
    "                                 index=['Predict Positive:1', 'Predict Negative:0'])\n",
    "\n",
    "sns.heatmap(cm2_matrix, annot=True, fmt='d')\n",
    "plt.show()"
   ]
  },
  {
   "cell_type": "code",
   "execution_count": 50,
   "id": "8502dcb2",
   "metadata": {},
   "outputs": [
    {
     "data": {
      "text/plain": [
       "array([[ 0.01662989,  0.42141881,  1.95067783, -1.50806321]])"
      ]
     },
     "execution_count": 50,
     "metadata": {},
     "output_type": "execute_result"
    }
   ],
   "source": [
    "Model_2.coef_"
   ]
  },
  {
   "cell_type": "code",
   "execution_count": 51,
   "id": "268cf5be",
   "metadata": {},
   "outputs": [
    {
     "name": "stdout",
     "output_type": "stream",
     "text": [
      "========Train=======\n",
      "Accuracy of model 2 \n",
      "0.8594285714285714\n",
      "========Test=======\n",
      "Accuracy of model 2\n",
      "0.862\n"
     ]
    }
   ],
   "source": [
    "print('========Train=======')\n",
    "print(f\"Accuracy of model 2 \\n{accuracy_score(y2_train, y2_train_Pred)}\")\n",
    "print('========Test=======')\n",
    "print(f\"Accuracy of model 2\\n{accuracy_score(y2_test, y2_test_Pred)}\")"
   ]
  },
  {
   "cell_type": "markdown",
   "id": "43835ad8",
   "metadata": {},
   "source": [
    "### ii. Model 3 : Model with significant attributes given by Model2;analyze model performance"
   ]
  },
  {
   "cell_type": "code",
   "execution_count": 52,
   "id": "b3f74b89",
   "metadata": {
    "scrolled": true
   },
   "outputs": [
    {
     "name": "stdout",
     "output_type": "stream",
     "text": [
      "              precision    recall  f1-score   support\n",
      "\n",
      "           0       0.87      0.98      0.92      1295\n",
      "           1       0.47      0.09      0.16       205\n",
      "\n",
      "    accuracy                           0.86      1500\n",
      "   macro avg       0.67      0.54      0.54      1500\n",
      "weighted avg       0.82      0.86      0.82      1500\n",
      "\n"
     ]
    }
   ],
   "source": [
    "from sklearn.metrics import classification_report\n",
    "\n",
    "print(classification_report(y2_test, y2_test_Pred))"
   ]
  },
  {
   "cell_type": "markdown",
   "id": "656362fb",
   "metadata": {},
   "source": [
    "### iii. Model 4: For the Model 2, compute perfor- mance with probability threshold decided based on ROC curve; analyze model performance"
   ]
  },
  {
   "cell_type": "code",
   "execution_count": 53,
   "id": "40df3d65",
   "metadata": {},
   "outputs": [
    {
     "data": {
      "image/png": "[encoded data removed]",
      "text/plain": [
       "<Figure size 432x288 with 1 Axes>"
      ]
     },
     "metadata": {
      "needs_background": "light"
     },
     "output_type": "display_data"
    }
   ],
   "source": [
    "from sklearn.metrics import roc_auc_score\n",
    "from sklearn.metrics import roc_curve\n",
    "logit_roc_auc = roc_auc_score(y2_test, lr_model.predict(x2_test))\n",
    "fpr, tpr, thresholds = roc_curve(y2_test, lr_model.predict_proba(x2_test)[:, 1])\n",
    "plt.figure()\n",
    "plt.plot(fpr, tpr, label='Logistic Regression (area = %0.2f)' % logit_roc_auc)\n",
    "plt.plot([0, 1], [0, 1],'r--')\n",
    "plt.xlim([0.0, 1.0])\n",
    "plt.ylim([0.0, 1.05])\n",
    "plt.xlabel('False Positive Rate')\n",
    "plt.ylabel('True Positive Rate')\n",
    "plt.title('Receiver operating characteristic')\n",
    "plt.legend(loc=\"lower right\")\n",
    "plt.savefig('Log_ROC')\n",
    "plt.show()"
   ]
  },
  {
   "cell_type": "markdown",
   "id": "fb3b93ad",
   "metadata": {},
   "source": [
    "## Model 5: Model 2 with regularisation imposed; analyze model performance"
   ]
  },
  {
   "cell_type": "code",
   "execution_count": 54,
   "id": "cec7092b",
   "metadata": {},
   "outputs": [
    {
     "name": "stdout",
     "output_type": "stream",
     "text": [
      "[0.00620456 0.11379514 0.01950858 ... 0.05151233 0.21539271 0.10613912]\n",
      "                 column_name  coefficient_values\n",
      "0          X..Vmail.Messages            0.001663\n",
      "1  X..customer.Service.Calls            0.054627\n",
      "2     International.Plan_yes            0.325513\n",
      "3        Voice.Mail.Plan_yes           -0.141510\n"
     ]
    }
   ],
   "source": [
    "#import ridge regression library\n",
    "from sklearn.linear_model import Ridge\n",
    "\n",
    "#Train the model\n",
    "ridgeRegressor = Ridge(alpha=0)#here setting the alpha 1\n",
    "Ridge_Model=ridgeRegressor.fit(x2_train,y2_train)\n",
    "y_pred_ridge=ridgeRegressor.predict(x2_test)\n",
    "print(y_pred_ridge)\n",
    "\n",
    "coefficient_df = pd.DataFrame()\n",
    "coefficient_df['column_name']=x2_train.columns\n",
    "coefficient_df['coefficient_values']=pd.Series(ridgeRegressor.coef_)\n",
    "print(coefficient_df)\n",
    "\n",
    "# plt.rcParams['figure.figsize']=(15,6)\n",
    "# plt.bar(coefficient_df[\"column_name\"],coefficient_df[\"coefficient_values\"])"
   ]
  },
  {
   "cell_type": "code",
   "execution_count": 55,
   "id": "f1c89def",
   "metadata": {},
   "outputs": [
    {
     "data": {
      "text/plain": [
       "0.5892321912556613"
      ]
     },
     "execution_count": 55,
     "metadata": {},
     "output_type": "execute_result"
    }
   ],
   "source": [
    "odds=np.exp(((0.001663*XVmailMessages)+(0.054627*XcustomerServiceCalls)\n",
    "             +(0.325513*InternationalPlan_yes)-(0.141510*VoiceMailPlan_yes)))\n",
    "odds/(odds+1)"
   ]
  },
  {
   "cell_type": "markdown",
   "id": "197bb96e",
   "metadata": {},
   "source": [
    "### b. Tabulate the train and validation results for all the above models"
   ]
  },
  {
   "cell_type": "code",
   "execution_count": 56,
   "id": "5be78cdf",
   "metadata": {},
   "outputs": [],
   "source": [
    "y2_pred_train = lr_model.predict(x2_train)\n",
    "\n",
    "y2_pred_test = lr_model.predict(x2_test)"
   ]
  },
  {
   "cell_type": "markdown",
   "id": "04c8e806",
   "metadata": {},
   "source": [
    "### predict_proba method\n",
    "\n",
    "\n",
    "**predict_proba** method gives the probabilities for the target variable(0 and 1) in this case, in array form.\n",
    "\n",
    "`0 is for probability of No-Churn` and `1 is for probability of Churn.`"
   ]
  },
  {
   "cell_type": "code",
   "execution_count": 57,
   "id": "f912f530",
   "metadata": {},
   "outputs": [
    {
     "data": {
      "text/plain": [
       "array([0.96460229, 0.92264654, 0.95976802, ..., 0.93302868, 0.79736644,\n",
       "       0.90138888])"
      ]
     },
     "execution_count": 57,
     "metadata": {},
     "output_type": "execute_result"
    }
   ],
   "source": [
    "# probability of getting output as 0 - No Churn\n",
    "\n",
    "lr_model.predict_proba(x2_test)[:,0]"
   ]
  },
  {
   "cell_type": "code",
   "execution_count": 58,
   "id": "536a23a9",
   "metadata": {},
   "outputs": [
    {
     "data": {
      "text/plain": [
       "array([0.03539771, 0.07735346, 0.04023198, ..., 0.06697132, 0.20263356,\n",
       "       0.09861112])"
      ]
     },
     "execution_count": 58,
     "metadata": {},
     "output_type": "execute_result"
    }
   ],
   "source": [
    "# probability of getting output as 1 - rain\n",
    "\n",
    "lr_model.predict_proba(x2_test)[:,1]"
   ]
  },
  {
   "cell_type": "code",
   "execution_count": 59,
   "id": "b5e6fe15",
   "metadata": {},
   "outputs": [
    {
     "name": "stdout",
     "output_type": "stream",
     "text": [
      "Model accuracy score: 0.8620\n"
     ]
    }
   ],
   "source": [
    "from sklearn.metrics import accuracy_score\n",
    "\n",
    "print('Model accuracy score: {0:0.4f}'. format(accuracy_score(y2_test, y2_pred_test)))"
   ]
  },
  {
   "cell_type": "markdown",
   "id": "4daed7ce",
   "metadata": {},
   "source": [
    "Here, **y_test** are the true class labels and **y_pred_test** are the predicted class labels in the test-set."
   ]
  },
  {
   "cell_type": "markdown",
   "id": "f22d1d41",
   "metadata": {},
   "source": [
    "### c. Analyze model performances and finalize the model\n"
   ]
  },
  {
   "cell_type": "code",
   "execution_count": 61,
   "id": "4f70689b",
   "metadata": {},
   "outputs": [
    {
     "name": "stdout",
     "output_type": "stream",
     "text": [
      "Accuracy : 0.8653\n",
      "Classification error : 0.1347\n",
      "Precision : 0.9792\n",
      "Recall or Sensitivity : 0.8787\n",
      "True Positive Rate : 0.8787\n",
      "False Positive Rate : 0.4737\n",
      "Specificity : 0.5263\n"
     ]
    }
   ],
   "source": [
    "#model1\n",
    "TP1 = cm[0,0]\n",
    "TN1 = cm[1,1]\n",
    "FP1 = cm[0,1]\n",
    "FN1 = cm[1,0]\n",
    "\n",
    "#Error Metrics\n",
    "Accuracy = (TP1 + TN1) / float(TP1 + TN1 + FP1 + FN1)\n",
    "classification_error = (FP1 + FN1) / float(TP1 + TN1 + FP1 + FN1)\n",
    "precision = TP1 / float(TP1 + FP1)\n",
    "recall = TP1 / float(TP1 + FN1)\n",
    "true_positive_rate = TP1 / float(TP1 + FN1)\n",
    "false_positive_rate = FP1 / float(FP1 + TN1)\n",
    "specificity = TN1 / (TN1 + FP1)\n",
    "print('Accuracy : {0:0.4f}'.format(Accuracy))\n",
    "print('Classification error : {0:0.4f}'.format(classification_error))\n",
    "print('Precision : {0:0.4f}'.format(precision))\n",
    "print('Recall or Sensitivity : {0:0.4f}'.format(recall))\n",
    "print('True Positive Rate : {0:0.4f}'.format(true_positive_rate))\n",
    "print('False Positive Rate : {0:0.4f}'.format(false_positive_rate))\n",
    "print('Specificity : {0:0.4f}'.format(specificity))"
   ]
  },
  {
   "cell_type": "code",
   "execution_count": 62,
   "id": "aa2ec75d",
   "metadata": {},
   "outputs": [
    {
     "name": "stdout",
     "output_type": "stream",
     "text": [
      "Accuracy : 0.8620\n",
      "Classification error : 0.1380\n",
      "Precision : 0.9838\n",
      "Recall or Sensitivity : 0.8726\n",
      "True Positive Rate : 0.8726\n",
      "False Positive Rate : 0.5250\n",
      "Specificity : 0.4750\n"
     ]
    }
   ],
   "source": [
    "#from Model_2\n",
    "TP = cm2[0,0]\n",
    "TN = cm2[1,1]\n",
    "FP = cm2[0,1]\n",
    "FN = cm2[1,0]\n",
    "\n",
    "#Error Metrics\n",
    "Accuracy = (TP + TN) / float(TP + TN + FP + FN)\n",
    "classification_error = (FP + FN) / float(TP + TN + FP + FN)\n",
    "precision = TP / float(TP + FP)\n",
    "recall = TP / float(TP + FN)\n",
    "true_positive_rate = TP / float(TP + FN)\n",
    "false_positive_rate = FP / float(FP + TN)\n",
    "specificity = TN / (TN + FP)\n",
    "print('Accuracy : {0:0.4f}'.format(Accuracy))\n",
    "print('Classification error : {0:0.4f}'.format(classification_error))\n",
    "print('Precision : {0:0.4f}'.format(precision))\n",
    "print('Recall or Sensitivity : {0:0.4f}'.format(recall))\n",
    "print('True Positive Rate : {0:0.4f}'.format(true_positive_rate))\n",
    "print('False Positive Rate : {0:0.4f}'.format(false_positive_rate))\n",
    "print('Specificity : {0:0.4f}'.format(specificity))"
   ]
  },
  {
   "cell_type": "code",
   "execution_count": null,
   "id": "4abaf237",
   "metadata": {},
   "outputs": [],
   "source": []
  }
 ],
 "metadata": {
  "kernelspec": {
   "display_name": "Python 3 (ipykernel)",
   "language": "python",
   "name": "python3"
  },
  "language_info": {
   "codemirror_mode": {
    "name": "ipython",
    "version": 3
   },
   "file_extension": ".py",
   "mimetype": "text/x-python",
   "name": "python",
   "nbconvert_exporter": "python",
   "pygments_lexer": "ipython3",
   "version": "3.9.7"
  }
 },
 "nbformat": 4,
 "nbformat_minor": 5
}
